{
  "nbformat": 4,
  "nbformat_minor": 0,
  "metadata": {
    "colab": {
      "provenance": [],
      "authorship_tag": "ABX9TyPyPLWm7hRyvSLUlwXRsI8l",
      "include_colab_link": true
    },
    "kernelspec": {
      "name": "python3",
      "display_name": "Python 3"
    },
    "language_info": {
      "name": "python"
    }
  },
  "cells": [
    {
      "cell_type": "markdown",
      "metadata": {
        "id": "view-in-github",
        "colab_type": "text"
      },
      "source": [
        "<a href=\"https://colab.research.google.com/github/juango15/tareas/blob/main/Untitled15.ipynb\" target=\"_parent\"><img src=\"https://colab.research.google.com/assets/colab-badge.svg\" alt=\"Open In Colab\"/></a>"
      ]
    },
    {
      "cell_type": "code",
      "source": [
        "import numpy as np\n",
        "\n",
        "alergy_trails = np.concatenate(([6, 1, 3, 8, 2],\n",
        "                                [2, 6, 3, 9, 8],\n",
        "                                [5, 2, 6, 9, 9]), axis = 0)\n",
        "\n",
        "\n",
        "print (np.mean(alergy_trails))"
      ],
      "metadata": {
        "colab": {
          "base_uri": "https://localhost:8080/"
        },
        "id": "3ITXBIvY3xl6",
        "outputId": "1fe88a7a-a153-476f-cf09-a8d60f911315"
      },
      "execution_count": null,
      "outputs": [
        {
          "output_type": "stream",
          "name": "stdout",
          "text": [
            "5.266666666666667\n"
          ]
        }
      ]
    },
    {
      "cell_type": "code",
      "source": [
        "import numpy as np\n",
        "\n",
        "with open('/content/sample_data/cereal.csv') as cereal:\n",
        "    calorie_stats = cereal.read()\n",
        "\n",
        "type(calorie_stats)\n",
        "calorie_list = calorie_stats.split(',')\n",
        "calorie_list = [int(x) for x in calorie_list]\n",
        "\n",
        "\n",
        "\n"
      ],
      "metadata": {
        "id": "HJOi9F6L8GSw",
        "colab": {
          "base_uri": "https://localhost:8080/"
        },
        "outputId": "ea24d921-115a-48c1-98dd-0108063edad1"
      },
      "execution_count": null,
      "outputs": [
        {
          "output_type": "stream",
          "name": "stdout",
          "text": [
            "[70, 120, 70, 50, 110, 110, 110, 130, 90, 90, 120, 110, 120, 110, 110, 110, 100, 110, 110, 110, 100, 110, 100, 100, 110, 110, 100, 120, 120, 110, 100, 110, 100, 110, 120, 120, 110, 110, 110, 140, 110, 100, 110, 100, 150, 150, 160, 100, 120, 140, 90, 130, 120, 100, 50, 50, 100, 100, 120, 100, 90, 110, 110, 80, 90, 90, 110, 110, 90, 110, 140, 100, 110, 110, 100, 100, 110]\n"
          ]
        }
      ]
    }
  ]
}